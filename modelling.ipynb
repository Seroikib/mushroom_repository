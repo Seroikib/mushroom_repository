{
 "cells": [
  {
   "cell_type": "code",
   "execution_count": 2,
   "metadata": {},
   "outputs": [
    {
     "name": "stdout",
     "output_type": "stream",
     "text": [
      "Cross-Validation Performance:\n",
      "Logistic Regression: 0.9595\n",
      "Decision Tree: 1.0000\n",
      "Random Forest: 1.0000\n",
      "SVM: 0.9925\n"
     ]
    }
   ],
   "source": [
    "import pandas as pd\n",
    "from sklearn.model_selection import train_test_split, cross_val_score\n",
    "from sklearn.preprocessing import LabelEncoder\n",
    "from sklearn.linear_model import LogisticRegression\n",
    "from sklearn.tree import DecisionTreeClassifier\n",
    "from sklearn.ensemble import RandomForestClassifier\n",
    "from sklearn.svm import SVC\n",
    "from sklearn.metrics import accuracy_score\n",
    "\n",
    "# Step 1: Load Dataset\n",
    "df = pd.read_csv(\"mushroom.csv\")\n",
    "\n",
    "# Step 2: Data Cleaning (Removing Byte-Strings if needed)\n",
    "df = df.replace({r\"b'\": \"\", r\"'\": \"\"}, regex=True)\n",
    "\n",
    "# Step 3: Encode Categorical Features (Label Encoding)\n",
    "label_encoder = LabelEncoder()\n",
    "df_encoded = df.apply(label_encoder.fit_transform)\n",
    "\n",
    "# Step 4: Split Data into Features and Target Variable\n",
    "X = df_encoded.drop(columns=[\"class\"])  # Features\n",
    "y = df_encoded[\"class\"]  # Target variable (Edible or Poisonous)\n",
    "\n",
    "# Step 5: Split Dataset into Training (80%) and Testing (20%)\n",
    "X_train, X_test, y_train, y_test = train_test_split(X, y, test_size=0.2, random_state=42, stratify=y)\n",
    "\n",
    "# Step 6: Define Models\n",
    "models = {\n",
    "    \"Logistic Regression\": LogisticRegression(max_iter=2000),\n",
    "    \"Decision Tree\": DecisionTreeClassifier(),\n",
    "    \"Random Forest\": RandomForestClassifier(n_estimators=100),\n",
    "    \"SVM\": SVC()\n",
    "}\n",
    "\n",
    "# Step 7: Perform Cross-Validation and Evaluate Accuracy\n",
    "cv_results = {}\n",
    "k_folds = 5  # Number of cross-validation folds\n",
    "\n",
    "for name, model in models.items():\n",
    "    scores = cross_val_score(model, X_train, y_train, cv=k_folds, scoring='accuracy')\n",
    "    cv_results[name] = scores.mean()\n",
    "\n",
    "# Step 8: Display Cross-Validation Results\n",
    "print(\"Cross-Validation Performance:\")\n",
    "for model, acc in cv_results.items():\n",
    "    print(f\"{model}: {acc:.4f}\")\n"
   ]
  }
 ],
 "metadata": {
  "kernelspec": {
   "display_name": "Python 3",
   "language": "python",
   "name": "python3"
  },
  "language_info": {
   "codemirror_mode": {
    "name": "ipython",
    "version": 3
   },
   "file_extension": ".py",
   "mimetype": "text/x-python",
   "name": "python",
   "nbconvert_exporter": "python",
   "pygments_lexer": "ipython3",
   "version": "3.12.7"
  }
 },
 "nbformat": 4,
 "nbformat_minor": 2
}
